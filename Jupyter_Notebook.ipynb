{
 "cells": [
  {
   "cell_type": "markdown",
   "metadata": {},
   "source": [
    "<center>\n",
    "    <img src=\"https://i.pinimg.com/originals/ea/21/4d/ea214df4b094e8e512aba08fedc3cf75.jpg\" width=\"300\" alt=\"cognitiveclass.ai logo\">\n",
    "</center>\n"
   ]
  },
  {
   "cell_type": "markdown",
   "metadata": {},
   "source": [
    "#### Add your code below following the instructions given in the course\n"
   ]
  },
  {
   "cell_type": "code",
   "execution_count": 10,
   "metadata": {
    "tags": []
   },
   "outputs": [],
   "source": [
    "# Introduction to Data Science\n",
    "\n",
    "## Intro\n",
    "#Look I'm really tired and I just want this to be done and over with I don't even care if I pass or not.\n",
    "\n",
    "## Data Science Languages\n",
    "- Python\n",
    "- R\n",
    "- SQL\n",
    "\n",
    "## Data Science Libraries\n",
    "- NumPy\n",
    "- Pandas\n",
    "- Matplotlib\n",
    "\n",
    "## Data Science Tools\n",
    "\n",
    "| Tool               | Description                           |\n",
    "|--------------------|---------------------------------------|\n",
    "| Jupyter Notebook   | Interactive computing environment     |\n",
    "| TensorFlow         | Machine learning library              |\n",
    "| RStudio            | IDE for R programming                 |\n",
    "\n",
    "#In the next example, I will create basic arithmetic operations such as addition, multiplication, and conversion of minutes to hours.\n"
   ]
  },
  {
   "cell_type": "code",
   "execution_count": 9,
   "metadata": {
    "tags": []
   },
   "outputs": [
    {
     "name": "stdout",
     "output_type": "stream",
     "text": [
      "Multiplication Result: 50\n",
      "Addition Result: 15\n"
     ]
    }
   ],
   "source": [
    "# Multiply and Add numbers WWWWWWOOOOOOO\n",
    "\n",
    "a = 5\n",
    "b = 10\n",
    "\n",
    "multiply_result = a * b\n",
    "add_result = a + b\n",
    "\n",
    "print(\"Multiplication Result:\", multiply_result)\n",
    "print(\"Addition Result:\", add_result)\n"
   ]
  },
  {
   "cell_type": "code",
   "execution_count": 8,
   "metadata": {
    "tags": []
   },
   "outputs": [
    {
     "name": "stdout",
     "output_type": "stream",
     "text": [
      "150 minutes is equal to 2.5 hours\n"
     ]
    }
   ],
   "source": [
    "#### CONVERT MINUTES TO HOURSSSSS WOOOOOOOO\n",
    "\n",
    "minutes = 150\n",
    "\n",
    "hours = minutes / 60\n",
    "\n",
    "print(minutes, \"minutes is equal to\", hours, \"hours\")\n"
   ]
  },
  {
   "cell_type": "code",
   "execution_count": 2,
   "metadata": {
    "tags": []
   },
   "outputs": [
    {
     "ename": "SyntaxError",
     "evalue": "invalid syntax (2861328034.py, line 2)",
     "output_type": "error",
     "traceback": [
      "\u001b[0;36m  File \u001b[0;32m\"/tmp/ipykernel_69/2861328034.py\"\u001b[0;36m, line \u001b[0;32m2\u001b[0m\n\u001b[0;31m    Understand basic data science concepts\u001b[0m\n\u001b[0m                   ^\u001b[0m\n\u001b[0;31mSyntaxError\u001b[0m\u001b[0;31m:\u001b[0m invalid syntax\n"
     ]
    }
   ],
   "source": [
    "#### Objectives\n",
    "Understand basic data science concepts\n",
    "Perform arithmetic operations in Python\n",
    "Convert units of time (minutes to hours)"
   ]
  },
  {
   "cell_type": "code",
   "execution_count": null,
   "metadata": {},
   "outputs": [],
   "source": [
    "Author: Haron T."
   ]
  },
  {
   "cell_type": "code",
   "execution_count": null,
   "metadata": {},
   "outputs": [],
   "source": []
  }
 ],
 "metadata": {
  "kernelspec": {
   "display_name": "Python",
   "language": "python",
   "name": "conda-env-python-py"
  },
  "language_info": {
   "codemirror_mode": {
    "name": "ipython",
    "version": 3
   },
   "file_extension": ".py",
   "mimetype": "text/x-python",
   "name": "python",
   "nbconvert_exporter": "python",
   "pygments_lexer": "ipython3",
   "version": "3.7.12"
  }
 },
 "nbformat": 4,
 "nbformat_minor": 4
}
